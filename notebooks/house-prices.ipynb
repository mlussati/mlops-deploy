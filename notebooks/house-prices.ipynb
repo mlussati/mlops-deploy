{
 "cells": [
  {
   "cell_type": "code",
   "execution_count": 16,
   "id": "3df5343e-8356-489a-99e5-e670065b6027",
   "metadata": {},
   "outputs": [],
   "source": [
    "import io\n",
    "import pandas as pd\n",
    "import pickle\n",
    "from sklearn.model_selection import train_test_split\n",
    "from sklearn.linear_model import LinearRegression"
   ]
  },
  {
   "cell_type": "code",
   "execution_count": 17,
   "id": "a8336183-f9d6-4f6b-961a-c2ea79cce16d",
   "metadata": {},
   "outputs": [],
   "source": [
    "df = pd.read_csv('casas.csv')"
   ]
  },
  {
   "cell_type": "code",
   "execution_count": 18,
   "id": "d409fce4-5df3-4307-a92e-78722668f494",
   "metadata": {},
   "outputs": [
    {
     "data": {
      "text/plain": "   tamanho   ano  garagem   preco\n0    159.0  2003        2  208500\n1    117.0  1976        2  181500\n2    166.0  2001        2  223500\n3    160.0  1915        3  140000\n4    204.0  2000        3  250000",
      "text/html": "<div>\n<style scoped>\n    .dataframe tbody tr th:only-of-type {\n        vertical-align: middle;\n    }\n\n    .dataframe tbody tr th {\n        vertical-align: top;\n    }\n\n    .dataframe thead th {\n        text-align: right;\n    }\n</style>\n<table border=\"1\" class=\"dataframe\">\n  <thead>\n    <tr style=\"text-align: right;\">\n      <th></th>\n      <th>tamanho</th>\n      <th>ano</th>\n      <th>garagem</th>\n      <th>preco</th>\n    </tr>\n  </thead>\n  <tbody>\n    <tr>\n      <th>0</th>\n      <td>159.0</td>\n      <td>2003</td>\n      <td>2</td>\n      <td>208500</td>\n    </tr>\n    <tr>\n      <th>1</th>\n      <td>117.0</td>\n      <td>1976</td>\n      <td>2</td>\n      <td>181500</td>\n    </tr>\n    <tr>\n      <th>2</th>\n      <td>166.0</td>\n      <td>2001</td>\n      <td>2</td>\n      <td>223500</td>\n    </tr>\n    <tr>\n      <th>3</th>\n      <td>160.0</td>\n      <td>1915</td>\n      <td>3</td>\n      <td>140000</td>\n    </tr>\n    <tr>\n      <th>4</th>\n      <td>204.0</td>\n      <td>2000</td>\n      <td>3</td>\n      <td>250000</td>\n    </tr>\n  </tbody>\n</table>\n</div>"
     },
     "execution_count": 18,
     "metadata": {},
     "output_type": "execute_result"
    }
   ],
   "source": [
    "df.head()"
   ]
  },
  {
   "cell_type": "code",
   "execution_count": 19,
   "id": "05d73a08-3055-44ef-9b76-1c7559d4da73",
   "metadata": {},
   "outputs": [],
   "source": [
    "X = df.drop('preco', axis=1)\n",
    "y = df['preco']"
   ]
  },
  {
   "cell_type": "code",
   "execution_count": 20,
   "id": "f3d820b8-cdea-4528-bed1-a71f501df048",
   "metadata": {},
   "outputs": [],
   "source": [
    "X_train, X_test, y_train, y_test = train_test_split(\n",
    "    X, y, test_size=0.3, random_state=42)"
   ]
  },
  {
   "cell_type": "code",
   "execution_count": 21,
   "id": "eb1490d7-130e-40fe-825b-d2444296cfad",
   "metadata": {},
   "outputs": [
    {
     "data": {
      "text/plain": "      tamanho   ano  garagem\n135     156.0  1970        2\n1452    100.0  2005        2\n762     144.0  2009        2\n932     177.0  2006        3\n435     154.0  1996        2",
      "text/html": "<div>\n<style scoped>\n    .dataframe tbody tr th:only-of-type {\n        vertical-align: middle;\n    }\n\n    .dataframe tbody tr th {\n        vertical-align: top;\n    }\n\n    .dataframe thead th {\n        text-align: right;\n    }\n</style>\n<table border=\"1\" class=\"dataframe\">\n  <thead>\n    <tr style=\"text-align: right;\">\n      <th></th>\n      <th>tamanho</th>\n      <th>ano</th>\n      <th>garagem</th>\n    </tr>\n  </thead>\n  <tbody>\n    <tr>\n      <th>135</th>\n      <td>156.0</td>\n      <td>1970</td>\n      <td>2</td>\n    </tr>\n    <tr>\n      <th>1452</th>\n      <td>100.0</td>\n      <td>2005</td>\n      <td>2</td>\n    </tr>\n    <tr>\n      <th>762</th>\n      <td>144.0</td>\n      <td>2009</td>\n      <td>2</td>\n    </tr>\n    <tr>\n      <th>932</th>\n      <td>177.0</td>\n      <td>2006</td>\n      <td>3</td>\n    </tr>\n    <tr>\n      <th>435</th>\n      <td>154.0</td>\n      <td>1996</td>\n      <td>2</td>\n    </tr>\n  </tbody>\n</table>\n</div>"
     },
     "execution_count": 21,
     "metadata": {},
     "output_type": "execute_result"
    }
   ],
   "source": [
    "X_train.head()"
   ]
  },
  {
   "cell_type": "code",
   "execution_count": 22,
   "id": "5f213ea2-b728-4ede-90f9-e68d418c5aa3",
   "metadata": {},
   "outputs": [
    {
     "data": {
      "text/plain": "LinearRegression()"
     },
     "execution_count": 22,
     "metadata": {},
     "output_type": "execute_result"
    }
   ],
   "source": [
    "modelo = LinearRegression()\n",
    "modelo.fit(X_train, y_train)"
   ]
  },
  {
   "cell_type": "code",
   "execution_count": 23,
   "id": "4de1cb29-ecc5-483b-b181-3463ae73fb0b",
   "metadata": {},
   "outputs": [
    {
     "data": {
      "text/plain": "-1484640.8721676639"
     },
     "execution_count": 23,
     "metadata": {},
     "output_type": "execute_result"
    }
   ],
   "source": [
    "modelo.intercept_"
   ]
  },
  {
   "cell_type": "code",
   "execution_count": 24,
   "id": "ee266569-1a59-40f9-8d7a-b8608ef6bb85",
   "metadata": {},
   "outputs": [
    {
     "name": "stderr",
     "output_type": "stream",
     "text": [
      "C:\\Users\\mluss\\anaconda3\\lib\\site-packages\\sklearn\\base.py:450: UserWarning: X does not have valid feature names, but LinearRegression was fitted with feature names\n",
      "  warnings.warn(\n"
     ]
    },
    {
     "data": {
      "text/plain": "array([191436.53503831])"
     },
     "execution_count": 24,
     "metadata": {},
     "output_type": "execute_result"
    }
   ],
   "source": [
    "modelo.predict([[120,2001,2]])"
   ]
  },
  {
   "cell_type": "code",
   "execution_count": 24,
   "outputs": [],
   "source": [],
   "metadata": {
    "collapsed": false
   }
  },
  {
   "cell_type": "code",
   "execution_count": 25,
   "id": "a8a028d6-4dfb-4463-b6bb-9a8d8ae68a31",
   "metadata": {},
   "outputs": [],
   "source": [
    "pickle.dump(modelo, open(\"modelo.sav\", \"wb\"))"
   ]
  },
  {
   "cell_type": "code",
   "execution_count": 15,
   "outputs": [
    {
     "data": {
      "text/plain": "'C:\\\\Users\\\\mluss\\\\Documents\\\\workspace\\\\project_mlops'"
     },
     "execution_count": 15,
     "metadata": {},
     "output_type": "execute_result"
    }
   ],
   "source": [
    "pwd"
   ],
   "metadata": {
    "collapsed": false
   }
  },
  {
   "cell_type": "code",
   "execution_count": null,
   "outputs": [],
   "source": [],
   "metadata": {
    "collapsed": false
   }
  }
 ],
 "metadata": {
  "kernelspec": {
   "display_name": "Python 3 (ipykernel)",
   "language": "python",
   "name": "python3"
  },
  "language_info": {
   "codemirror_mode": {
    "name": "ipython",
    "version": 3
   },
   "file_extension": ".py",
   "mimetype": "text/x-python",
   "name": "python",
   "nbconvert_exporter": "python",
   "pygments_lexer": "ipython3",
   "version": "3.9.12"
  }
 },
 "nbformat": 4,
 "nbformat_minor": 5
}
