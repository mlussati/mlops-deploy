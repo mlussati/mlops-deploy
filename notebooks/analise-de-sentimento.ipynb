{
 "cells": [
  {
   "cell_type": "code",
   "execution_count": 1,
   "id": "f2532498-f878-44e5-abbd-2ebfc06e1a96",
   "metadata": {},
   "outputs": [],
   "source": [
    "from textblob import TextBlob"
   ]
  },
  {
   "cell_type": "code",
   "execution_count": 4,
   "id": "1219b399-006d-43eb-ab4e-240269f08654",
   "metadata": {},
   "outputs": [],
   "source": [
    "frase = \"Python eh otimo para Machine Learning\""
   ]
  },
  {
   "cell_type": "code",
   "execution_count": 6,
   "id": "a324f328-03de-4f97-96b0-34a387192558",
   "metadata": {},
   "outputs": [],
   "source": [
    "tb = TextBlob(frase)\n",
    "tb_en = tb.translate(from_lang='pt_br', to='en')"
   ]
  },
  {
   "cell_type": "code",
   "execution_count": 8,
   "id": "f365ae80-be5a-46bd-be42-03cf76884677",
   "metadata": {},
   "outputs": [
    {
     "data": {
      "text/plain": [
       "0.8"
      ]
     },
     "execution_count": 8,
     "metadata": {},
     "output_type": "execute_result"
    }
   ],
   "source": [
    "tb_en.sentiment.polarity"
   ]
  },
  {
   "cell_type": "code",
   "execution_count": null,
   "id": "4dcccbc1-442a-40d5-beb9-6dec0cc5af06",
   "metadata": {},
   "outputs": [],
   "source": []
  }
 ],
 "metadata": {
  "kernelspec": {
   "display_name": "Python 3 (ipykernel)",
   "language": "python",
   "name": "python3"
  },
  "language_info": {
   "codemirror_mode": {
    "name": "ipython",
    "version": 3
   },
   "file_extension": ".py",
   "mimetype": "text/x-python",
   "name": "python",
   "nbconvert_exporter": "python",
   "pygments_lexer": "ipython3",
   "version": "3.10.6"
  }
 },
 "nbformat": 4,
 "nbformat_minor": 5
}
